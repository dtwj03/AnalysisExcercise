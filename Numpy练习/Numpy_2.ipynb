{
 "cells": [
  {
   "cell_type": "code",
   "execution_count": 1,
   "metadata": {},
   "outputs": [
    {
     "name": "stdout",
     "output_type": "stream",
     "text": [
      "[ 0  1  2  3  4  5  6  7  8  9 10 11 12 13 14]\n",
      "[[ 0  1  2  3  4]\n",
      " [ 5  6  7  8  9]\n",
      " [10 11 12 13 14]]\n"
     ]
    }
   ],
   "source": [
    "import numpy as np\n",
    "print(np.arange(15))\n",
    "a = np.arange(15).reshape(3, 5)\n",
    "print(a)"
   ]
  },
  {
   "cell_type": "code",
   "execution_count": 4,
   "metadata": {},
   "outputs": [
    {
     "name": "stdout",
     "output_type": "stream",
     "text": [
      "(3, 5)\n",
      "2\n"
     ]
    }
   ],
   "source": [
    "print(a.shape)\n",
    "print(a.ndim)"
   ]
  },
  {
   "cell_type": "code",
   "execution_count": 6,
   "metadata": {},
   "outputs": [
    {
     "name": "stdout",
     "output_type": "stream",
     "text": [
      "int32\n",
      "int32\n",
      "15\n"
     ]
    }
   ],
   "source": [
    "print(a.dtype)\n",
    "print(a.dtype.name)\n",
    "print(a.size)"
   ]
  },
  {
   "cell_type": "code",
   "execution_count": 7,
   "metadata": {},
   "outputs": [
    {
     "data": {
      "text/plain": [
       "array([[ 0.,  0.,  0.,  0.],\n",
       "       [ 0.,  0.,  0.,  0.],\n",
       "       [ 0.,  0.,  0.,  0.]])"
      ]
     },
     "execution_count": 7,
     "metadata": {},
     "output_type": "execute_result"
    }
   ],
   "source": [
    "np.zeros((3, 4))"
   ]
  },
  {
   "cell_type": "code",
   "execution_count": 10,
   "metadata": {},
   "outputs": [
    {
     "data": {
      "text/plain": [
       "array([[[1, 1, 1, 1],\n",
       "        [1, 1, 1, 1],\n",
       "        [1, 1, 1, 1]],\n",
       "\n",
       "       [[1, 1, 1, 1],\n",
       "        [1, 1, 1, 1],\n",
       "        [1, 1, 1, 1]]])"
      ]
     },
     "execution_count": 10,
     "metadata": {},
     "output_type": "execute_result"
    }
   ],
   "source": [
    "np.ones((2, 3, 4), dtype=np.int32)"
   ]
  },
  {
   "cell_type": "code",
   "execution_count": 13,
   "metadata": {},
   "outputs": [
    {
     "data": {
      "text/plain": [
       "array([[ 0.24261339,  0.68163395,  0.28385091],\n",
       "       [ 0.34754847,  0.15220533,  0.60489473]])"
      ]
     },
     "execution_count": 13,
     "metadata": {},
     "output_type": "execute_result"
    }
   ],
   "source": [
    "np.random.random((2, 3))"
   ]
  },
  {
   "cell_type": "code",
   "execution_count": 14,
   "metadata": {},
   "outputs": [
    {
     "data": {
      "text/plain": [
       "array([ 0.        ,  0.06346652,  0.12693304,  0.19039955,  0.25386607,\n",
       "        0.31733259,  0.38079911,  0.44426563,  0.50773215,  0.57119866,\n",
       "        0.63466518,  0.6981317 ,  0.76159822,  0.82506474,  0.88853126,\n",
       "        0.95199777,  1.01546429,  1.07893081,  1.14239733,  1.20586385,\n",
       "        1.26933037,  1.33279688,  1.3962634 ,  1.45972992,  1.52319644,\n",
       "        1.58666296,  1.65012947,  1.71359599,  1.77706251,  1.84052903,\n",
       "        1.90399555,  1.96746207,  2.03092858,  2.0943951 ,  2.15786162,\n",
       "        2.22132814,  2.28479466,  2.34826118,  2.41172769,  2.47519421,\n",
       "        2.53866073,  2.60212725,  2.66559377,  2.72906028,  2.7925268 ,\n",
       "        2.85599332,  2.91945984,  2.98292636,  3.04639288,  3.10985939,\n",
       "        3.17332591,  3.23679243,  3.30025895,  3.36372547,  3.42719199,\n",
       "        3.4906585 ,  3.55412502,  3.61759154,  3.68105806,  3.74452458,\n",
       "        3.8079911 ,  3.87145761,  3.93492413,  3.99839065,  4.06185717,\n",
       "        4.12532369,  4.1887902 ,  4.25225672,  4.31572324,  4.37918976,\n",
       "        4.44265628,  4.5061228 ,  4.56958931,  4.63305583,  4.69652235,\n",
       "        4.75998887,  4.82345539,  4.88692191,  4.95038842,  5.01385494,\n",
       "        5.07732146,  5.14078798,  5.2042545 ,  5.26772102,  5.33118753,\n",
       "        5.39465405,  5.45812057,  5.52158709,  5.58505361,  5.64852012,\n",
       "        5.71198664,  5.77545316,  5.83891968,  5.9023862 ,  5.96585272,\n",
       "        6.02931923,  6.09278575,  6.15625227,  6.21971879,  6.28318531])"
      ]
     },
     "execution_count": 14,
     "metadata": {},
     "output_type": "execute_result"
    }
   ],
   "source": [
    "from numpy import pi\n",
    "np.linspace(0, 2*pi, 100)"
   ]
  },
  {
   "cell_type": "code",
   "execution_count": 15,
   "metadata": {},
   "outputs": [
    {
     "name": "stdout",
     "output_type": "stream",
     "text": [
      "[20 29 38 47]\n",
      "[0 1 4 9]\n",
      "[ True  True False False]\n"
     ]
    }
   ],
   "source": [
    "a = np.array([20, 30, 40, 50])\n",
    "b = np.arange(4)\n",
    "print(a-b)\n",
    "print(b**2)\n",
    "print(a<35)"
   ]
  },
  {
   "cell_type": "code",
   "execution_count": 18,
   "metadata": {},
   "outputs": [
    {
     "name": "stdout",
     "output_type": "stream",
     "text": [
      "[[2 0]\n",
      " [0 4]]\n",
      "---------\n",
      "[[5 4]\n",
      " [3 4]]\n",
      "---------\n",
      "[[5 4]\n",
      " [3 4]]\n"
     ]
    }
   ],
   "source": [
    "A = np.array([[1, 1],\n",
    "              [0, 1]])\n",
    "B =np.array([[2, 0],\n",
    "             [3, 4]])\n",
    "print(A*B)\n",
    "print('---------')\n",
    "print(A.dot(B))\n",
    "print('---------')\n",
    "print(np.dot(A, B))"
   ]
  },
  {
   "cell_type": "code",
   "execution_count": null,
   "metadata": {},
   "outputs": [],
   "source": []
  }
 ],
 "metadata": {
  "kernelspec": {
   "display_name": "Python 3",
   "language": "python",
   "name": "python3"
  },
  "language_info": {
   "codemirror_mode": {
    "name": "ipython",
    "version": 3
   },
   "file_extension": ".py",
   "mimetype": "text/x-python",
   "name": "python",
   "nbconvert_exporter": "python",
   "pygments_lexer": "ipython3",
   "version": "3.6.2"
  }
 },
 "nbformat": 4,
 "nbformat_minor": 2
}
